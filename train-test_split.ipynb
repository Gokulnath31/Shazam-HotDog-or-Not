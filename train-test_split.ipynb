{
 "cells": [
  {
   "cell_type": "code",
   "execution_count": 1,
   "metadata": {},
   "outputs": [],
   "source": [
    "import pandas as pd\n",
    "\n",
    "from shutil import copyfile\n",
    "import os \n",
    "\n",
    "import random\n"
   ]
  },
  {
   "cell_type": "code",
   "execution_count": 2,
   "metadata": {},
   "outputs": [],
   "source": [
    "def split_data(SOURCE, TRAINING, TESTING, SPLIT_SIZE):\n",
    "    files = []\n",
    "    for filename in os.listdir(SOURCE):\n",
    "        file = SOURCE + filename\n",
    "        if os.path.getsize(file) > 0:\n",
    "            files.append(filename)\n",
    "        else:\n",
    "            print(filename + \" is zero length, so ignoring.\")\n",
    "\n",
    "    training_length = int(len(files) * SPLIT_SIZE)\n",
    "    testing_length = int(len(files) - training_length)\n",
    "    shuffled_set = random.sample(files, len(files))\n",
    "    training_set = shuffled_set[0:training_length]\n",
    "    testing_set = shuffled_set[:testing_length]\n",
    "\n",
    "    for filename in training_set:\n",
    "        this_file = SOURCE + filename\n",
    "        destination = TRAINING + filename\n",
    "        copyfile(this_file, destination)\n",
    "\n",
    "    for filename in testing_set:\n",
    "        this_file = SOURCE + filename\n",
    "        destination = TESTING + filename\n",
    "        copyfile(this_file, destination)"
   ]
  },
  {
   "cell_type": "code",
   "execution_count": 3,
   "metadata": {},
   "outputs": [],
   "source": [
    "try:\n",
    "    os.mkdir('Food')\n",
    "    os.mkdir('Food/train')\n",
    "    os.mkdir('Food/val')\n",
    "    os.mkdir('Food/train/HotDog')\n",
    "    os.mkdir('Food/train/Not HotDog')\n",
    "    os.mkdir('Food/val/HotDog')\n",
    "    os.mkdir('Food/val/Not HotDog')\n",
    "\n",
    "except OSError:\n",
    "    pass"
   ]
  },
  {
   "cell_type": "code",
   "execution_count": 4,
   "metadata": {},
   "outputs": [],
   "source": [
    "hotdog_SOURCE_DIR = \"data/HotDog/\"\n",
    "TRAINING_hotdog_DIR = \"Food/train/HotDog/\"\n",
    "TESTING_hotdog_DIR = \"Food/val/HotDog/\"\n",
    "NotHotDog_SOURCE_DIR = \"data/Not HotDog/\"\n",
    "TRAINING_NotHotDog_DIR = \"Food/train/Not HotDog/\"\n",
    "TESTING_NotHotDog_DIR = \"Food/val/Not HotDog/\"\n",
    "\n",
    "split_size = .9\n",
    "split_data(hotdog_SOURCE_DIR, TRAINING_hotdog_DIR, TESTING_hotdog_DIR, split_size)\n",
    "split_data(NotHotDog_SOURCE_DIR, TRAINING_NotHotDog_DIR, TESTING_NotHotDog_DIR, split_size)"
   ]
  },
  {
   "cell_type": "code",
   "execution_count": null,
   "metadata": {},
   "outputs": [],
   "source": []
  }
 ],
 "metadata": {
  "kernelspec": {
   "display_name": "Python 3",
   "language": "python",
   "name": "python3"
  },
  "language_info": {
   "codemirror_mode": {
    "name": "ipython",
    "version": 3
   },
   "file_extension": ".py",
   "mimetype": "text/x-python",
   "name": "python",
   "nbconvert_exporter": "python",
   "pygments_lexer": "ipython3",
   "version": "3.7.9"
  }
 },
 "nbformat": 4,
 "nbformat_minor": 4
}
